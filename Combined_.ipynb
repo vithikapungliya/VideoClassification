{
  "nbformat": 4,
  "nbformat_minor": 0,
  "metadata": {
    "colab": {
      "provenance": []
    },
    "kernelspec": {
      "name": "python3",
      "display_name": "Python 3"
    },
    "language_info": {
      "name": "python"
    },
    "accelerator": "GPU",
    "gpuClass": "standard"
  },
  "cells": [
    {
      "cell_type": "code",
      "source": [
        "import pandas as pd\n",
        "import numpy as np\n",
        "import os\n",
        "import matplotlib.pyplot as plt\n",
        "import cv2"
      ],
      "metadata": {
        "id": "gkXenJ1BYPO1"
      },
      "execution_count": null,
      "outputs": []
    },
    {
      "cell_type": "code",
      "source": [
        "import matplotlib.pyplot as plt\n",
        "import tensorflow as tf \n",
        "from PIL import Image\n",
        "import os \n",
        "from sklearn.model_selection import train_test_split \n",
        "from tensorflow.keras.utils import to_categorical\n",
        "from keras.models import Sequential \n",
        "from keras.layers import Conv2D, MaxPool2D, Dense, Flatten, Dropout\n",
        "from keras.models import Model\n",
        "from keras.layers import Dense, Dropout,GlobalAveragePooling2D\n",
        "from tensorflow.keras.optimizers import Adam\n",
        "from keras.callbacks import ModelCheckpoint, EarlyStopping, ReduceLROnPlateau\n",
        "from keras.models import load_model\n",
        "from sklearn.preprocessing import LabelEncoder\n",
        "import pickle\n",
        "from  keras_preprocessing.sequence import pad_sequences"
      ],
      "metadata": {
        "id": "OAHJ2QTGYM_h"
      },
      "execution_count": null,
      "outputs": []
    },
    {
      "cell_type": "code",
      "source": [
        "def label_smoothing(y_true,y_pred):\n",
        "    \n",
        "     return tf.keras.losses.binary_crossentropy(y_true,y_pred,label_smoothing=0.1)"
      ],
      "metadata": {
        "id": "5blOosYLdMcH"
      },
      "execution_count": null,
      "outputs": []
    },
    {
      "cell_type": "code",
      "source": [
        "def sparse_cross_entropy(y_true, y_pred):\n",
        "    loss = tf.nn.sparse_softmax_cross_entropy_with_logits(labels=y_true,\n",
        "                                                          logits=y_pred)\n",
        "    loss_mean = tf.reduce_mean(loss)\n",
        "    return loss_mean"
      ],
      "metadata": {
        "id": "gyINqHOHCOiq"
      },
      "execution_count": null,
      "outputs": []
    },
    {
      "cell_type": "code",
      "source": [
        "model1 = load_model('/content/drive/MyDrive/densenet.h5',custom_objects={'label_smoothing': label_smoothing})\n",
        "image_model_transfer=load_model(\"/content/drive/MyDrive/image_model_transfer.h5\")\n",
        "decoder_model=load_model(\"/content/drive/MyDrive/Final_ISRO_DenseNet201_Epoch50.h5\",custom_objects={'sparse_cross_entropy': sparse_cross_entropy})"
      ],
      "metadata": {
        "id": "QZvEO7a5YVpW",
        "colab": {
          "base_uri": "https://localhost:8080/"
        },
        "outputId": "d40ac89d-67de-4d13-a8f5-23facc5a1fc5"
      },
      "execution_count": null,
      "outputs": [
        {
          "output_type": "stream",
          "name": "stderr",
          "text": [
            "WARNING:tensorflow:No training configuration found in the save file, so the model was *not* compiled. Compile it manually.\n"
          ]
        }
      ]
    },
    {
      "cell_type": "code",
      "source": [
        "from  keras.preprocessing.text import Tokenizer"
      ],
      "metadata": {
        "id": "y5Zg42xVC9Rj"
      },
      "execution_count": null,
      "outputs": []
    },
    {
      "cell_type": "code",
      "source": [
        "class TokenizerWrap(Tokenizer):\n",
        "    \"\"\"Wrap the Tokenizer-class from Keras with more functionality.\"\"\"\n",
        "    \n",
        "    def _init_(self, texts, num_words=None):\n",
        "        \"\"\"\n",
        "        :param texts: List of strings with the data-set.\n",
        "        :param num_words: Max number of words to use.\n",
        "        \"\"\"\n",
        "\n",
        "        Tokenizer._init_(self, num_words=num_words)\n",
        "\n",
        "        # Create the vocabulary from the texts.\n",
        "        self.fit_on_texts(texts)\n",
        "\n",
        "        # Create inverse lookup from integer-tokens to words.\n",
        "        # word_index is a dictionary. its values are tokens and the keys are words\n",
        "        # opposite to index_to_word\n",
        "        self.index_to_word = dict(zip(self.word_index.values(),\n",
        "                                      self.word_index.keys()))\n",
        "\n",
        "    def token_to_word(self, token):\n",
        "        \"\"\"Lookup a single word from an integer-token.\"\"\"\n",
        "        word = \" \" if token == 0 else self.index_to_word[token]\n",
        "        return word \n",
        "\n",
        "    def tokens_to_string(self, tokens):\n",
        "        \"\"\"Convert a list of integer-tokens to a string.\"\"\"\n",
        "        # Create a list of the individual words.\n",
        "        words = [self.index_to_word[token]\n",
        "                 for token in tokens\n",
        "                 if token != 0]\n",
        "        \n",
        "        # Concatenate the words to a single string\n",
        "        # with space between all the words.\n",
        "        text = \" \".join(words)\n",
        "\n",
        "        return text\n",
        "    \n",
        "    def captions_to_tokens(self, captions_listlist):\n",
        "        \"\"\"\n",
        "        Convert a list-of-list with text-captions to\n",
        "        a list-of-list of integer-tokens.\n",
        "        \"\"\"\n",
        "        \n",
        "        # Note that text_to_sequences() takes a list of texts.\n",
        "        tokens = [self.texts_to_sequences(captions_list)\n",
        "                  for captions_list in captions_listlist]\n",
        "        \n",
        "        return tokens"
      ],
      "metadata": {
        "id": "ULAxZwCGCp0P"
      },
      "execution_count": null,
      "outputs": []
    },
    {
      "cell_type": "code",
      "source": [
        "with open('/content/drive/MyDrive/Train_Label.pickle', 'rb') as efile:\n",
        "    labels=pickle.load(efile)\n",
        "with open('/content/drive/MyDrive/tokenizer.pkl', 'rb') as efile:\n",
        "    tokenizer=pickle.load(efile)"
      ],
      "metadata": {
        "id": "QdgYCmfoZJzz"
      },
      "execution_count": null,
      "outputs": []
    },
    {
      "cell_type": "code",
      "source": [
        "from sklearn.preprocessing import LabelEncoder"
      ],
      "metadata": {
        "id": "pPNb2bOsZYpl"
      },
      "execution_count": null,
      "outputs": []
    },
    {
      "cell_type": "code",
      "source": [
        "le=LabelEncoder()"
      ],
      "metadata": {
        "id": "ExbG3lX-ZaaR"
      },
      "execution_count": null,
      "outputs": []
    },
    {
      "cell_type": "code",
      "source": [
        "labels=le.fit_transform(labels)"
      ],
      "metadata": {
        "id": "pnM215LVZcNh"
      },
      "execution_count": null,
      "outputs": []
    },
    {
      "cell_type": "code",
      "execution_count": null,
      "metadata": {
        "id": "yUnhN8kTVfKe"
      },
      "outputs": [],
      "source": [
        "def framing(video):#defining a small function named\"framing\" with a parameter \"i\" that's supposed to be provided for reading the video\n",
        "    fr = []#creating an empty list named fr\n",
        "    fr_pre=[]#creating an empty list named fr_pre\n",
        "    cap = cv2.VideoCapture(video)#reading the video file\n",
        "    while (cap.isOpened()):#This command builds a loop to check if the data is still being read from the video\n",
        "        ret,frame = cap.read()#reading the data tunnel,gives two output where one tells about presence of frames(here it's ret) & the other speaks frame data(here it's frame)\n",
        "        if ret == True:#checking for presence of frames\n",
        "            # cv2_imshow(frame)#displaying the frames\n",
        "            grayed = cv2.cvtColor(frame,cv2.COLOR_BGR2GRAY)#Converting the frames to Grayscale from BGR\n",
        "            canned = cv2.Canny(grayed,320,320)#For extrating edges we use Canny Edge detection method\n",
        "            fr.append(frame)#Appending the read frame\n",
        "            fr_pre.append(canned)#Appending the edge extracted frames\n",
        "            # cv2_imshow(grayed)#Displaying the original frames\n",
        "            # cv2_imshow(canned)#Displaying the edge detected frames\n",
        "            k = cv2.waitKey(10) & 0XFF#this is an arrangement for displaying the video where the secs for which each frame needs to be displayed in given in the paranthesis\n",
        "            if k == ord('q'):#pressing 'q' key will close the video\n",
        "                break\n",
        "        else:\n",
        "            break\n",
        "    cap.release()#Here we release the resoures\n",
        "    cv2.destroyAllWindows()#Here we delete all the windows that were created during the program       \n",
        "    return fr_pre,fr "
      ]
    },
    {
      "cell_type": "code",
      "source": [
        "def difference_of_frames(frames):\n",
        "    diff = []#creatin a list variable\n",
        "    for i in range(0,len(frames)-1):#defining the range\n",
        "        # print(frames[i],frames[i+1])#checking the frames presence\n",
        "        diff.append(cv2.absdiff(frames[i],frames[i+1]))#appending the diff between frames to the list variable so we're supposed to get only the difference between frames\n",
        "    return diff"
      ],
      "metadata": {
        "id": "QfAXNuTcX6Ka"
      },
      "execution_count": null,
      "outputs": []
    },
    {
      "cell_type": "code",
      "source": [
        "def cal_threshold(diff):\n",
        "  mn = np.mean(diff)#This gives mean\n",
        "  st_d = np.std(diff)#This gives standard deviation\n",
        "  a = 4#Setting a random value we can modify it to any value \n",
        "  ts = mn + (a * st_d)#defining the standard threshold value for the project/global threshold value\n",
        "  return ts"
      ],
      "metadata": {
        "id": "1U8zzjvJX8Ac"
      },
      "execution_count": null,
      "outputs": []
    },
    {
      "cell_type": "code",
      "source": [
        "def imp_frames(diff, ts, ogframes):\n",
        "  a_fr = []#Creating an empty list\n",
        "  for i in range(len(diff)):#Defining the for loop to be looped over all the frames obtained after finding the frames resulted from subtracting\n",
        "      mn = np.mean(diff[i])#Calculating the mean for each frame\n",
        "      st_d = np.std(diff[i])#Calculating the standard deviation for each frame\n",
        "      fr_ts = mn + (4*st_d)#Finding the threshold values for each frame/image\n",
        "      a_fr.append([i,fr_ts])#Appending the frame number & the threshold values\n",
        "  imp_fr = []#Creating an empty list\n",
        "  for i,ac_tr in(a_fr):#Defining the loop on the list obtained from above code\n",
        "      if ac_tr >= ts:#Comapring the threshold values to the standard threshold/global threshold values\n",
        "          imp_fr.append([i,ac_tr])#Appending the list with the imp frames based on their index & the values\n",
        "  key_fr = []#Creating an empty list\n",
        "  for i,_ in imp_fr:#Defining the loop over the list obtained from above code\n",
        "      key_fr.append(ogframes[i])#This extracts the frames based on the index of frames \n",
        "  return key_fr"
      ],
      "metadata": {
        "id": "t0xUlB61X-h2"
      },
      "execution_count": null,
      "outputs": []
    },
    {
      "cell_type": "code",
      "source": [
        "def final_image(video):\n",
        "  frames,ogframes = framing(video)#calling function framing & then extracting the images \n",
        "  diff=difference_of_frames(frames)  \n",
        "  ts=cal_threshold(diff) \n",
        "  key_fr=imp_frames(diff, ts, ogframes)  \n",
        "  frame_no=key_fr[int(len(key_fr)/2)] #this is a frame\n",
        "  cv2.imwrite(\"/content/Testing1.jpg\",frame_no)\n",
        "  return \"/content/Testing1.jpg\"\n",
        "  cv2.destroyAllWindows()"
      ],
      "metadata": {
        "id": "LqDaiGyXYArT"
      },
      "execution_count": null,
      "outputs": []
    },
    {
      "cell_type": "code",
      "source": [
        "def image_test(image_path):\n",
        "  image=Image.open(image_path)\n",
        "  image = image.resize((224,224)) \n",
        "  image = np.array(image) \n",
        "  image= np.expand_dims(image, axis=0)\n",
        "  return image"
      ],
      "metadata": {
        "id": "z6-FO7MVYC83"
      },
      "execution_count": null,
      "outputs": []
    },
    {
      "cell_type": "code",
      "source": [],
      "metadata": {
        "id": "5a-20RBPYGDb"
      },
      "execution_count": null,
      "outputs": []
    },
    {
      "cell_type": "code",
      "source": [
        "def largest_indices(ary, n):\n",
        "    flat = ary.flatten()\n",
        "    indices = np.argpartition(flat, -n)[-n:]\n",
        "    indices = indices[np.argsort(-flat[indices])]\n",
        "    return indices"
      ],
      "metadata": {
        "id": "abSVBEjjYITu"
      },
      "execution_count": null,
      "outputs": []
    },
    {
      "cell_type": "code",
      "source": [
        "mark_start = 'ssss'\n",
        "mark_end = ' eeee'"
      ],
      "metadata": {
        "id": "7XVPZEnkDnql"
      },
      "execution_count": null,
      "outputs": []
    },
    {
      "cell_type": "code",
      "source": [
        "token_start = tokenizer.word_index[mark_start.strip()]\n",
        "token_end = tokenizer.word_index[mark_end.strip()]"
      ],
      "metadata": {
        "id": "9BX8TXT5DhIZ"
      },
      "execution_count": null,
      "outputs": []
    },
    {
      "cell_type": "code",
      "source": [
        "def load_image(path, size=None):\n",
        "  \"\"\"\n",
        "  Load the image from the given file-path and resize it\n",
        "  to the given size if not None.\n",
        "  \"\"\"\n",
        "\n",
        "  # Load the image using PIL.\n",
        "  img = Image.open(path)\n",
        "\n",
        "  # Resize image if desired.\n",
        "  if not size is None:\n",
        "      img = img.resize(size=size, resample=Image.LANCZOS)\n",
        "      \n",
        "  img = np.array(img)\n",
        "  img = img / 255.0\n",
        "\n",
        "  # Convert 2-dim gray-scale array to 3-dim RGB array.\n",
        "  if (len(img.shape) == 2):\n",
        "      img = np.repeat(img[:, :, np.newaxis], 3, axis=2)\n",
        "  return img"
      ],
      "metadata": {
        "id": "5HDz5ZnsDVAx"
      },
      "execution_count": null,
      "outputs": []
    },
    {
      "cell_type": "code",
      "source": [
        "def greedy_search(image_path, max_tokens=30):\n",
        "    \"\"\"\n",
        "    Generate a caption for the image in the given path.\n",
        "    The caption is limited to the given number of tokens (words).\n",
        "    \"\"\"\n",
        "    # ---------------------------ENCODE IMAGE--------------------------------\n",
        "    # Load and resize the image.\n",
        "    image = load_image(image_path, size=(224,224))\n",
        "    \n",
        "    # Expand the 3-dim numpy array to 4-dim\n",
        "    # because the image-model expects a whole batch as input,\n",
        "    # so we give it a batch with just one image.\n",
        "    image_batch = np.expand_dims(image, axis=0)\n",
        "\n",
        "    # Process the image with the pre-trained image-model\n",
        "    # to get the transfer-values.\n",
        "    transfer_values = image_model_transfer.predict(image_batch)\n",
        "    \n",
        "    # -------------------------------------------------------------------\n",
        "    \n",
        "    \n",
        "    # Pre-allocate the 2-dim array used as input to the decoder.\n",
        "    # This holds just a single sequence of integer-tokens,\n",
        "    # but the decoder-model expects a batch of sequences.\n",
        "    shape = (1, max_tokens)\n",
        "    decoder_input_data = np.zeros(shape=shape, dtype=np.int)\n",
        "\n",
        "    # The first input-token is the special start-token for 'ssss '.\n",
        "    token_int = token_start #1\n",
        "\n",
        "    # Initialize an empty output-text.\n",
        "    output_text = ''\n",
        "\n",
        "    # Initialize the number of tokens we have processed.\n",
        "    count_tokens = 0\n",
        "\n",
        "    # While we haven't sampled the special end-token for ' eeee'\n",
        "    # and we haven't processed the max number of tokens.\n",
        "    while token_int != token_end and count_tokens < max_tokens:\n",
        "        # Update the input-sequence to the decoder\n",
        "        # with the last token that was sampled.\n",
        "        # In the first iteration this will set the\n",
        "        # first element to the start-token.\n",
        "        decoder_input_data[0, count_tokens] = token_int\n",
        "\n",
        "        # Wrap the input-data in a dict for clarity and safety,\n",
        "        # so we are sure we input the data in the right order.\n",
        "        x_data = \\\n",
        "        {\n",
        "            'transfer_values_input': transfer_values,\n",
        "            'decoder_input': decoder_input_data\n",
        "        }\n",
        "\n",
        "        # Note that we input the entire sequence of tokens\n",
        "        # to the decoder. This wastes a lot of computation\n",
        "        # because we are only interested in the last input\n",
        "        # and output. We could modify the code to return\n",
        "        # the GRU-states when calling predict() and then\n",
        "        # feeding these GRU-states as well the next time\n",
        "        # we call predict(), but it would make the code\n",
        "        # much more complicated.\n",
        "        \n",
        "        # Input this data to the decoder and get the predicted output.\n",
        "        decoder_output = decoder_model.predict(x_data)\n",
        "#         print(decoder_output.shape) (1,30,15000) for every iteration\n",
        "        \n",
        "        # Get the last predicted token as a one-hot encoded array.\n",
        "        # Note that this is not limited by softmax, but we just\n",
        "        # need the index of the largest element so it doesn't matter.\n",
        "        token_onehot = decoder_output[0, count_tokens, :]\n",
        "#         print(token_onehot.shape) (15000, ) for every iteration\n",
        "        # Convert to an integer-token.\n",
        "        token_int = np.argmax(token_onehot)\n",
        "#         print(token_int) #the token of a word with the highest score\n",
        "        \n",
        "        # Lookup the word corresponding to this integer-token.\n",
        "        sampled_word = tokenizer.token_to_word(token_int)\n",
        "#         print(sampled_word)\n",
        "\n",
        "        # Append the word to the output-text.\n",
        "        output_text += \" \" + sampled_word\n",
        "\n",
        "        # Increment the token-counter.\n",
        "        count_tokens += 1\n",
        "\n",
        "    # This is the sequence of tokens output by the decoder.\n",
        "    output_tokens = decoder_input_data[0]\n",
        "#     print(output_tokens)\n",
        "    # Plot the image.\n",
        "    # plt.imshow(image)\n",
        "    # plt.show()\n",
        "\n",
        "    predicted_caption=output_text.split()\n",
        "    del (predicted_caption[-1])\n",
        "    output_text = \" \"\n",
        "    output_text = output_text.join(predicted_caption)\n",
        "\n",
        "    # Print the predicted caption.\n",
        "    # print(\"Predicted caption:\")\n",
        "    # print(output_text)\n",
        "    # print()\n",
        "    return predicted_caption"
      ],
      "metadata": {
        "id": "0jXc5Lje_jSW"
      },
      "execution_count": null,
      "outputs": []
    },
    {
      "cell_type": "code",
      "source": [
        "def beam_search(beam_index, image_path, max_tokens=30):\n",
        "    image = load_image(image_path, size=(224,224))\n",
        "    \n",
        "    # Expand the 3-dim numpy array to 4-dim\n",
        "    # because the image-model expects a whole batch as input,\n",
        "    # so we give it a batch with just one image.\n",
        "    image_batch = np.expand_dims(image, axis=0)\n",
        "\n",
        "    # Process the image with the pre-trained image-model\n",
        "    # to get the transfer-values.\n",
        "    transfer_values = image_model_transfer.predict(image_batch)\n",
        "    \n",
        "    token_int = [token_start]\n",
        "    start_word = [[token_int, 0.0]]\n",
        "    count_tokens = 0 \n",
        "    while len(start_word[0][0])<max_tokens:\n",
        "        temp = []\n",
        "        \n",
        "        for s in start_word:\n",
        "            par_caps = pad_sequences([s[0]], maxlen=max_tokens, padding='post')\n",
        "            preds = decoder_model.predict([transfer_values,par_caps], verbose=0)\n",
        "            token_onehot = preds[0, count_tokens, :]\n",
        "#             print(token_onehot.shape)\n",
        "            word_preds = np.argsort(token_onehot)[-beam_index:]\n",
        "#             print(word_preds.shape)\n",
        "            \n",
        "            for w in word_preds:\n",
        "                next_cap, prob = s[0][:], s[1]\n",
        "                next_cap.append(w)\n",
        "                prob += token_onehot[w]\n",
        "                temp.append([next_cap, prob])\n",
        "                  \n",
        "        start_word = temp\n",
        "        count_tokens+=1\n",
        "        # Sorting according to the probabilities\n",
        "        start_word = sorted(start_word, reverse=False, key=lambda l: l[1])\n",
        "        # Getting the top words\n",
        "        start_word = start_word[-beam_index:]\n",
        "                  \n",
        "    start_word = start_word[-1][0]\n",
        "    intermediate_caption = [tokenizer.token_to_word(i) for i in start_word]\n",
        "    final_caption = []\n",
        "    \n",
        "    for i in intermediate_caption:\n",
        "        if i != 'eeee':\n",
        "            final_caption.append(i)\n",
        "        else:\n",
        "            break\n",
        "\n",
        "    # final_caption = ' '.join(final_caption[1:])\n",
        "    return final_caption[1:]"
      ],
      "metadata": {
        "id": "020bFlln_mub"
      },
      "execution_count": null,
      "outputs": []
    },
    {
      "cell_type": "code",
      "source": [],
      "metadata": {
        "id": "etRJhd3O_y4C"
      },
      "execution_count": null,
      "outputs": []
    },
    {
      "cell_type": "markdown",
      "source": [
        "### Generate Caption"
      ],
      "metadata": {
        "id": "NswWKJsjxs8z"
      }
    },
    {
      "cell_type": "code",
      "source": [
        "# def generate_caption_test(idx):\n",
        "#   data_dir = root_dir\n",
        "#   filename = filenames_test[idx]\n",
        "#   captions = captions_test[idx]\n",
        "\n",
        "#   path = os.path.join(data_dir, filename)\n",
        "#   true_caption1=captions[0].split()\n",
        "#   true_caption2=captions[1].split()\n",
        "#   true_caption3=captions[2].split()\n",
        "\n",
        "#   print(\"True captions: \", end =\"\")\n",
        "#   # show_image(idx,train=False)\n",
        "  \n",
        "#   predicted_caption1=' '.join((greedy_search(image_path=path)))\n",
        "#   predicted_caption2=' '.join(beam_search(beam_index=3,image_path=path))\n",
        "#   predicted_caption3=' '.join(beam_search(beam_index=5,image_path=path))\n",
        "\n",
        "#   print(\"Predicted using Greedy Search\", predicted_caption1)\n",
        "#   print(\"Predicted using Beam Search (k=3)\", predicted_caption2)\n",
        "#   print(\"Predicted using Beam Search (k=5)\", predicted_caption3)"
      ],
      "metadata": {
        "id": "V5ZxCnu4mAgv"
      },
      "execution_count": null,
      "outputs": []
    },
    {
      "cell_type": "code",
      "source": [
        "# generate_caption_test(idx=24)"
      ],
      "metadata": {
        "id": "DtIzuSZlwXft"
      },
      "execution_count": null,
      "outputs": []
    },
    {
      "cell_type": "code",
      "source": [
        "# def show_image_using_path(img_path):\n",
        "#     # Load the image and plot it.\n",
        "#     img = load_image(path)\n",
        "#     plt.imshow(img)\n",
        "#     plt.show()"
      ],
      "metadata": {
        "id": "dhqhNNL77tgV"
      },
      "execution_count": null,
      "outputs": []
    },
    {
      "cell_type": "code",
      "source": [
        "def generate_caption_any(image_path):\n",
        "\n",
        "  print(\"True captions: \", end =\"\")\n",
        "\n",
        "  predicted_caption1=' '.join((greedy_search(image_path=image_path)))\n",
        "  predicted_caption2=' '.join(beam_search(beam_index=3,image_path=image_path))\n",
        "  predicted_caption3=' '.join(beam_search(beam_index=5,image_path=image_path))\n",
        "\n",
        "  print(\"Predicted using Greedy Search: \", predicted_caption1)\n",
        "  print(\"Predicted using Beam Search (k=3): \", predicted_caption2)\n",
        "  print(\"Predicted using Beam Search (k=5): \", predicted_caption3)\n",
        "  return predicted_caption2\n",
        "  # show_image_using_path(image_path)"
      ],
      "metadata": {
        "id": "T7yWUhrCwarE"
      },
      "execution_count": null,
      "outputs": []
    },
    {
      "cell_type": "code",
      "source": [
        "from google.colab.patches import cv2_imshow"
      ],
      "metadata": {
        "id": "VysWVS97FNfg"
      },
      "execution_count": null,
      "outputs": []
    },
    {
      "cell_type": "code",
      "source": [
        "from PIL import Image"
      ],
      "metadata": {
        "id": "bnG9dvZ4F4vi"
      },
      "execution_count": null,
      "outputs": []
    },
    {
      "cell_type": "code",
      "source": [
        "path=final_image(\"/content/Video001-Scene-001.mp4\")\n",
        "image=image_test(path)\n",
        "# print(image.shape)\n",
        "output_class=model1.predict(image)\n",
        "caption=generate_caption_any(path)\n",
        "indices=largest_indices(output_class, 3)\n",
        "img = load_image(path)\n",
        "plt.imshow(img)\n",
        "plt.show()\n",
        "print(le.inverse_transform(indices))\n",
        "print(caption)"
      ],
      "metadata": {
        "id": "yiflM1ZfYKMk",
        "colab": {
          "base_uri": "https://localhost:8080/",
          "height": 654
        },
        "outputId": "84b2eb80-a3d1-41e0-aaf0-505290f00c94"
      },
      "execution_count": null,
      "outputs": [
        {
          "output_type": "stream",
          "name": "stdout",
          "text": [
            "1/1 [==============================] - 11s 11s/step\n",
            "1/1 [==============================] - 3s 3s/step\n"
          ]
        },
        {
          "output_type": "stream",
          "name": "stderr",
          "text": [
            "<ipython-input-22-50859f9c9546>:26: DeprecationWarning: `np.int` is a deprecated alias for the builtin `int`. To silence this warning, use `int` by itself. Doing this will not modify any behavior and is safe. When replacing `np.int`, you may wish to use e.g. `np.int64` or `np.int32` to specify the precision. If you wish to review your current use, check the release note link for additional information.\n",
            "Deprecated in NumPy 1.20; for more details and guidance: https://numpy.org/devdocs/release/1.20.0-notes.html#deprecations\n",
            "  decoder_input_data = np.zeros(shape=shape, dtype=np.int)\n"
          ]
        },
        {
          "output_type": "stream",
          "name": "stdout",
          "text": [
            "1/1 [==============================] - 2s 2s/step\n",
            "1/1 [==============================] - 0s 20ms/step\n",
            "1/1 [==============================] - 0s 20ms/step\n",
            "1/1 [==============================] - 0s 23ms/step\n",
            "1/1 [==============================] - 0s 20ms/step\n",
            "1/1 [==============================] - 0s 24ms/step\n",
            "1/1 [==============================] - 0s 19ms/step\n",
            "1/1 [==============================] - 0s 21ms/step\n",
            "1/1 [==============================] - 0s 20ms/step\n",
            "1/1 [==============================] - 0s 39ms/step\n",
            "1/1 [==============================] - 0s 33ms/step\n",
            "Predicted using Greedy Search:  the logo is orange and blue in color\n",
            "Predicted using Beam Search (k=3):  isro logo is seen on black background\n",
            "Predicted using Beam Search (k=5):  isro logo is seen on black background background\n"
          ]
        },
        {
          "output_type": "display_data",
          "data": {
            "text/plain": [
              "<Figure size 432x288 with 1 Axes>"
            ],
            "image/png": "[encoded data removed]"
          },
          "metadata": {
            "needs_background": "light"
          }
        },
        {
          "output_type": "stream",
          "name": "stdout",
          "text": [
            "['Logo' 'Building' 'IndoorControlRoom']\n",
            "isro logo is seen on black background\n"
          ]
        }
      ]
    }
  ]
}