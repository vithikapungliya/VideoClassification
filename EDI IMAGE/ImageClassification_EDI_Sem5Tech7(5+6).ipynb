{
  "cells": [
    {
      "cell_type": "code",
      "execution_count": null,
      "metadata": {
        "id": "AmBkS5UXlUN2"
      },
      "outputs": [],
      "source": [
        "import pandas as pd\n",
        "import numpy as np\n",
        "import os\n",
        "import matplotlib.pyplot as plt"
      ]
    },
    {
      "cell_type": "code",
      "execution_count": null,
      "metadata": {
        "id": "03lv4rKxl1JI"
      },
      "outputs": [],
      "source": [
        "import matplotlib.pyplot as plt\n",
        "import tensorflow as tf \n",
        "from PIL import Image\n",
        "import os \n",
        "from sklearn.model_selection import train_test_split \n",
        "from tensorflow.keras.utils import to_categorical\n",
        "from keras.models import Sequential \n",
        "from keras.layers import Conv2D, MaxPool2D, Dense, Flatten, Dropout\n",
        "from keras.models import Model\n",
        "from keras.layers import Dense, Dropout,GlobalAveragePooling2D\n",
        "from tensorflow.keras.optimizers import Adam\n",
        "from keras.callbacks import ModelCheckpoint, EarlyStopping, ReduceLROnPlateau"
      ]
    },
    {
      "cell_type": "code",
      "execution_count": null,
      "metadata": {
        "id": "bceFdZQ3llQ9"
      },
      "outputs": [],
      "source": [
        "df=pd.read_excel(\"/content/Video-Classification-GT.xlsx\")"
      ]
    },
    {
      "cell_type": "code",
      "execution_count": null,
      "metadata": {
        "colab": {
          "base_uri": "https://localhost:8080/",
          "height": 424
        },
        "id": "Qaqx0r0fr8bj",
        "outputId": "a5e3ce97-7968-4ac2-a4bf-216226550ee8"
      },
      "outputs": [
        {
          "data": {
            "text/html": [
              "\n",
              "  <div id=\"df-f662c7b9-4cf7-4883-81b7-c9e20c83a565\">\n",
              "    <div class=\"colab-df-container\">\n",
              "      <div>\n",
              "<style scoped>\n",
              "    .dataframe tbody tr th:only-of-type {\n",
              "        vertical-align: middle;\n",
              "    }\n",
              "\n",
              "    .dataframe tbody tr th {\n",
              "        vertical-align: top;\n",
              "    }\n",
              "\n",
              "    .dataframe thead th {\n",
              "        text-align: right;\n",
              "    }\n",
              "</style>\n",
              "<table border=\"1\" class=\"dataframe\">\n",
              "  <thead>\n",
              "    <tr style=\"text-align: right;\">\n",
              "      <th></th>\n",
              "      <th>Video No.</th>\n",
              "      <th>Shot No.</th>\n",
              "      <th>Filename</th>\n",
              "      <th>Category</th>\n",
              "      <th>Audio</th>\n",
              "    </tr>\n",
              "  </thead>\n",
              "  <tbody>\n",
              "    <tr>\n",
              "      <th>0</th>\n",
              "      <td>1</td>\n",
              "      <td>1</td>\n",
              "      <td>Video001-Scene-001.mp4</td>\n",
              "      <td>Logo</td>\n",
              "      <td>English</td>\n",
              "    </tr>\n",
              "    <tr>\n",
              "      <th>1</th>\n",
              "      <td>1</td>\n",
              "      <td>2</td>\n",
              "      <td>Video001-Scene-002.mp4</td>\n",
              "      <td>Animation</td>\n",
              "      <td>English</td>\n",
              "    </tr>\n",
              "    <tr>\n",
              "      <th>2</th>\n",
              "      <td>1</td>\n",
              "      <td>3</td>\n",
              "      <td>Video001-Scene-003.mp4</td>\n",
              "      <td>IndoorLab</td>\n",
              "      <td>English</td>\n",
              "    </tr>\n",
              "    <tr>\n",
              "      <th>3</th>\n",
              "      <td>1</td>\n",
              "      <td>4</td>\n",
              "      <td>Video001-Scene-004.mp4</td>\n",
              "      <td>OutdoorGeneric</td>\n",
              "      <td>English</td>\n",
              "    </tr>\n",
              "    <tr>\n",
              "      <th>4</th>\n",
              "      <td>1</td>\n",
              "      <td>5</td>\n",
              "      <td>Video001-Scene-005.mp4</td>\n",
              "      <td>OutdoorLaunchpad</td>\n",
              "      <td>English</td>\n",
              "    </tr>\n",
              "    <tr>\n",
              "      <th>...</th>\n",
              "      <td>...</td>\n",
              "      <td>...</td>\n",
              "      <td>...</td>\n",
              "      <td>...</td>\n",
              "      <td>...</td>\n",
              "    </tr>\n",
              "    <tr>\n",
              "      <th>3606</th>\n",
              "      <td>25</td>\n",
              "      <td>51</td>\n",
              "      <td>Video025-Scene-051.mp4</td>\n",
              "      <td>Graphics</td>\n",
              "      <td>NaN</td>\n",
              "    </tr>\n",
              "    <tr>\n",
              "      <th>3607</th>\n",
              "      <td>25</td>\n",
              "      <td>52</td>\n",
              "      <td>Video025-Scene-052.mp4</td>\n",
              "      <td>Sky</td>\n",
              "      <td>NaN</td>\n",
              "    </tr>\n",
              "    <tr>\n",
              "      <th>3608</th>\n",
              "      <td>25</td>\n",
              "      <td>53</td>\n",
              "      <td>Video025-Scene-053.mp4</td>\n",
              "      <td>IndoorLab</td>\n",
              "      <td>NaN</td>\n",
              "    </tr>\n",
              "    <tr>\n",
              "      <th>3609</th>\n",
              "      <td>25</td>\n",
              "      <td>54</td>\n",
              "      <td>Video025-Scene-054.mp4</td>\n",
              "      <td>Animation</td>\n",
              "      <td>NaN</td>\n",
              "    </tr>\n",
              "    <tr>\n",
              "      <th>3610</th>\n",
              "      <td>25</td>\n",
              "      <td>55</td>\n",
              "      <td>Video025-Scene-055.mp4</td>\n",
              "      <td>Logo</td>\n",
              "      <td>NaN</td>\n",
              "    </tr>\n",
              "  </tbody>\n",
              "</table>\n",
              "<p>3611 rows × 5 columns</p>\n",
              "</div>\n",
              "      <button class=\"colab-df-convert\" onclick=\"convertToInteractive('df-f662c7b9-4cf7-4883-81b7-c9e20c83a565')\"\n",
              "              title=\"Convert this dataframe to an interactive table.\"\n",
              "              style=\"display:none;\">\n",
              "        \n",
              "  <svg xmlns=\"http://www.w3.org/2000/svg\" height=\"24px\"viewBox=\"0 0 24 24\"\n",
              "       width=\"24px\">\n",
              "    <path d=\"M0 0h24v24H0V0z\" fill=\"none\"/>\n",
              "    <path d=\"M18.56 5.44l.94 2.06.94-2.06 2.06-.94-2.06-.94-.94-2.06-.94 2.06-2.06.94zm-11 1L8.5 8.5l.94-2.06 2.06-.94-2.06-.94L8.5 2.5l-.94 2.06-2.06.94zm10 10l.94 2.06.94-2.06 2.06-.94-2.06-.94-.94-2.06-.94 2.06-2.06.94z\"/><path d=\"M17.41 7.96l-1.37-1.37c-.4-.4-.92-.59-1.43-.59-.52 0-1.04.2-1.43.59L10.3 9.45l-7.72 7.72c-.78.78-.78 2.05 0 2.83L4 21.41c.39.39.9.59 1.41.59.51 0 1.02-.2 1.41-.59l7.78-7.78 2.81-2.81c.8-.78.8-2.07 0-2.86zM5.41 20L4 18.59l7.72-7.72 1.47 1.35L5.41 20z\"/>\n",
              "  </svg>\n",
              "      </button>\n",
              "      \n",
              "  <style>\n",
              "    .colab-df-container {\n",
              "      display:flex;\n",
              "      flex-wrap:wrap;\n",
              "      gap: 12px;\n",
              "    }\n",
              "\n",
              "    .colab-df-convert {\n",
              "      background-color: #E8F0FE;\n",
              "      border: none;\n",
              "      border-radius: 50%;\n",
              "      cursor: pointer;\n",
              "      display: none;\n",
              "      fill: #1967D2;\n",
              "      height: 32px;\n",
              "      padding: 0 0 0 0;\n",
              "      width: 32px;\n",
              "    }\n",
              "\n",
              "    .colab-df-convert:hover {\n",
              "      background-color: #E2EBFA;\n",
              "      box-shadow: 0px 1px 2px rgba(60, 64, 67, 0.3), 0px 1px 3px 1px rgba(60, 64, 67, 0.15);\n",
              "      fill: #174EA6;\n",
              "    }\n",
              "\n",
              "    [theme=dark] .colab-df-convert {\n",
              "      background-color: #3B4455;\n",
              "      fill: #D2E3FC;\n",
              "    }\n",
              "\n",
              "    [theme=dark] .colab-df-convert:hover {\n",
              "      background-color: #434B5C;\n",
              "      box-shadow: 0px 1px 3px 1px rgba(0, 0, 0, 0.15);\n",
              "      filter: drop-shadow(0px 1px 2px rgba(0, 0, 0, 0.3));\n",
              "      fill: #FFFFFF;\n",
              "    }\n",
              "  </style>\n",
              "\n",
              "      <script>\n",
              "        const buttonEl =\n",
              "          document.querySelector('#df-f662c7b9-4cf7-4883-81b7-c9e20c83a565 button.colab-df-convert');\n",
              "        buttonEl.style.display =\n",
              "          google.colab.kernel.accessAllowed ? 'block' : 'none';\n",
              "\n",
              "        async function convertToInteractive(key) {\n",
              "          const element = document.querySelector('#df-f662c7b9-4cf7-4883-81b7-c9e20c83a565');\n",
              "          const dataTable =\n",
              "            await google.colab.kernel.invokeFunction('convertToInteractive',\n",
              "                                                     [key], {});\n",
              "          if (!dataTable) return;\n",
              "\n",
              "          const docLinkHtml = 'Like what you see? Visit the ' +\n",
              "            '<a target=\"_blank\" href=https://colab.research.google.com/notebooks/data_table.ipynb>data table notebook</a>'\n",
              "            + ' to learn more about interactive tables.';\n",
              "          element.innerHTML = '';\n",
              "          dataTable['output_type'] = 'display_data';\n",
              "          await google.colab.output.renderOutput(dataTable, element);\n",
              "          const docLink = document.createElement('div');\n",
              "          docLink.innerHTML = docLinkHtml;\n",
              "          element.appendChild(docLink);\n",
              "        }\n",
              "      </script>\n",
              "    </div>\n",
              "  </div>\n",
              "  "
            ],
            "text/plain": [
              "      Video No.  Shot No.                Filename          Category    Audio\n",
              "0             1         1  Video001-Scene-001.mp4              Logo  English\n",
              "1             1         2  Video001-Scene-002.mp4         Animation  English\n",
              "2             1         3  Video001-Scene-003.mp4         IndoorLab  English\n",
              "3             1         4  Video001-Scene-004.mp4    OutdoorGeneric  English\n",
              "4             1         5  Video001-Scene-005.mp4  OutdoorLaunchpad  English\n",
              "...         ...       ...                     ...               ...      ...\n",
              "3606         25        51  Video025-Scene-051.mp4          Graphics      NaN\n",
              "3607         25        52  Video025-Scene-052.mp4               Sky      NaN\n",
              "3608         25        53  Video025-Scene-053.mp4         IndoorLab      NaN\n",
              "3609         25        54  Video025-Scene-054.mp4         Animation      NaN\n",
              "3610         25        55  Video025-Scene-055.mp4              Logo      NaN\n",
              "\n",
              "[3611 rows x 5 columns]"
            ]
          },
          "execution_count": 6,
          "metadata": {},
          "output_type": "execute_result"
        }
      ],
      "source": [
        "df"
      ]
    },
    {
      "cell_type": "code",
      "execution_count": null,
      "metadata": {
        "id": "A-fjEzg4l7y3"
      },
      "outputs": [],
      "source": [
        "data = []\n",
        "labels = []\n",
        "classes = 30"
      ]
    },
    {
      "cell_type": "code",
      "execution_count": null,
      "metadata": {
        "id": "JhTzSCogaXLZ"
      },
      "outputs": [],
      "source": [
        "! unzip \"/content/drive/MyDrive/MainFrames.zip\" "
      ]
    },
    {
      "cell_type": "code",
      "execution_count": null,
      "metadata": {
        "id": "dFw9DFxv7sP3"
      },
      "outputs": [],
      "source": [
        "root_dir=\"/content/MainFrames\""
      ]
    },
    {
      "cell_type": "code",
      "execution_count": null,
      "metadata": {
        "id": "VpF8w1Wg53up"
      },
      "outputs": [],
      "source": [
        "for i, row in df.iterrows():\n",
        "  x=row[\"Filename\"][:-3] + 'jpg'\n",
        "  path = os. path.join(root_dir, x)\n",
        "  try:\n",
        "    image=Image.open(path)\n",
        "    image = image.resize((224,224)) \n",
        "    image = np.array(image) \n",
        "    data.append(image) \n",
        "    labels.append(row[\"Category\"]) \n",
        "    print(i)\n",
        "  except:\n",
        "    continue\n",
        "\n",
        "data = np.array(data)\n",
        "labels = np.array(labels)"
      ]
    },
    {
      "cell_type": "code",
      "execution_count": null,
      "metadata": {
        "colab": {
          "base_uri": "https://localhost:8080/"
        },
        "id": "leHIWlJscKbo",
        "outputId": "ff00ba66-5007-493a-a771-8eb598009014"
      },
      "outputs": [
        {
          "data": {
            "text/plain": [
              "(2923, 224, 224, 3)"
            ]
          },
          "execution_count": 15,
          "metadata": {},
          "output_type": "execute_result"
        }
      ],
      "source": [
        "data.shape"
      ]
    },
    {
      "cell_type": "code",
      "execution_count": null,
      "metadata": {
        "id": "4aplFYAPsXaf"
      },
      "outputs": [],
      "source": [
        "import pickle"
      ]
    },
    {
      "cell_type": "code",
      "execution_count": null,
      "metadata": {
        "id": "QVFGJGDcsPcU"
      },
      "outputs": [],
      "source": [
        "# with open('/content/drive/MyDrive/edi_TY/Train_Data.pickle', 'rb') as efile:\n",
        "#     data=pickle.load(efile)"
      ]
    },
    {
      "cell_type": "code",
      "execution_count": null,
      "metadata": {
        "id": "mGaNyZ9lsbQ6"
      },
      "outputs": [],
      "source": [
        "with open('/content/Train_Label.pickle', 'wb') as efile:\n",
        "    pickle.dump(labels, efile)"
      ]
    },
    {
      "cell_type": "code",
      "execution_count": null,
      "metadata": {
        "id": "bSDDV00-dBEZ"
      },
      "outputs": [],
      "source": [
        "from sklearn.preprocessing import LabelEncoder"
      ]
    },
    {
      "cell_type": "code",
      "execution_count": null,
      "metadata": {
        "id": "C56Q3NE-dK5o"
      },
      "outputs": [],
      "source": [
        "le=LabelEncoder()"
      ]
    },
    {
      "cell_type": "code",
      "execution_count": null,
      "metadata": {
        "id": "PPBQ4JwCdNad"
      },
      "outputs": [],
      "source": [
        "labels=le.fit_transform(labels)"
      ]
    },
    {
      "cell_type": "code",
      "execution_count": null,
      "metadata": {
        "id": "PbXNF-hCmKyr"
      },
      "outputs": [],
      "source": [
        "#Converting the labels into one hot encoding\n",
        "labels= to_categorical(labels)"
      ]
    },
    {
      "cell_type": "code",
      "execution_count": null,
      "metadata": {
        "colab": {
          "base_uri": "https://localhost:8080/"
        },
        "id": "rqYhmHdZmF4_",
        "outputId": "9932ebb0-5f09-4fa3-d0b1-5dcbe56d2c5d"
      },
      "outputs": [
        {
          "name": "stdout",
          "output_type": "stream",
          "text": [
            "(3609, 224, 224, 3) (3609, 30)\n"
          ]
        }
      ],
      "source": [
        "print(data.shape, labels.shape)\n",
        "#Splitting training and testing dataset\n",
        "X_train, X_test, y_train, y_test = train_test_split(data, labels, test_size=0.2, random_state=42)\n"
      ]
    },
    {
      "cell_type": "code",
      "execution_count": null,
      "metadata": {
        "colab": {
          "base_uri": "https://localhost:8080/"
        },
        "id": "uPW0QlER8-qM",
        "outputId": "3602c4fb-91ea-40b7-f412-b895e82c3506"
      },
      "outputs": [
        {
          "name": "stdout",
          "output_type": "stream",
          "text": [
            "(2887, 224, 224, 3) (722, 224, 224, 3) (2887, 30) (722, 30)\n"
          ]
        }
      ],
      "source": [
        "print(X_train.shape, X_test.shape, y_train.shape, y_test.shape)"
      ]
    },
    {
      "cell_type": "code",
      "execution_count": null,
      "metadata": {
        "id": "TjGKIJxt-Zb2"
      },
      "outputs": [],
      "source": [
        "import keras"
      ]
    },
    {
      "cell_type": "code",
      "execution_count": null,
      "metadata": {
        "id": "7bOCvyNcmQGM"
      },
      "outputs": [],
      "source": [
        "#build the model\n",
        "effnet = tf.keras.applications.DenseNet201(weights='imagenet', \n",
        "                        include_top=False, \n",
        "                        input_shape=(224, 224, 3))\n",
        "\n",
        "model5 = effnet.output\n",
        "model5 = GlobalAveragePooling2D()(model5)\n",
        "model5 = Dropout(0.5)(model5)\n",
        "model5 = Dense(30, activation='softmax')(model5)\n",
        "model5 = Model(inputs=effnet.input, \n",
        "              outputs=model5)\n",
        "\n",
        "# #get summary()\n",
        "# model5.summary()"
      ]
    },
    {
      "cell_type": "code",
      "execution_count": null,
      "metadata": {
        "id": "nYaxZr_Sw6im"
      },
      "outputs": [],
      "source": [
        "def label_smoothing(y_true,y_pred):\n",
        "    \n",
        "     return tf.keras.losses.binary_crossentropy(y_true,y_pred,label_smoothing=0.1)"
      ]
    },
    {
      "cell_type": "code",
      "execution_count": null,
      "metadata": {
        "colab": {
          "base_uri": "https://localhost:8080/"
        },
        "id": "FzlEeBAym3gC",
        "outputId": "c9a12d70-ece6-4fcb-93e4-65f8108954db"
      },
      "outputs": [
        {
          "name": "stderr",
          "output_type": "stream",
          "text": [
            "/usr/local/lib/python3.7/dist-packages/keras/optimizers/optimizer_v2/adam.py:110: UserWarning: The `lr` argument is deprecated, use `learning_rate` instead.\n",
            "  super(Adam, self).__init__(name, **kwargs)\n"
          ]
        }
      ],
      "source": [
        "model5.compile(optimizer=Adam(lr=0.0001),\n",
        "              loss= label_smoothing,\n",
        "              metrics=['accuracy'])\n",
        "\n",
        "#define checkpoint\n",
        "checkpoint = ModelCheckpoint('densenet.h5', \n",
        "                             monitor='val_accuracy',\n",
        "                             save_best_only=True,\n",
        "                             mode='auto',\n",
        "                             verbose=1)\n",
        "\n",
        "#early stopping\n",
        "earlystop = EarlyStopping(monitor='val_accuracy',\n",
        "                          patience=5,\n",
        "                          mode='auto',\n",
        "                          verbose=1)\n",
        "\n",
        "#reduce learning rate\n",
        "reduce_lr = ReduceLROnPlateau(monitor = 'val_accuracy', \n",
        "                              factor = 0.3, \n",
        "                              patience = 2, \n",
        "                              min_delta = 0.001,\n",
        "                              mode='auto',\n",
        "                              verbose=1)"
      ]
    },
    {
      "cell_type": "code",
      "execution_count": null,
      "metadata": {
        "colab": {
          "base_uri": "https://localhost:8080/"
        },
        "id": "MFwkJ3R-Cbt9",
        "outputId": "a0a2b783-1b50-4bd6-8bdf-ab2071f10d4f"
      },
      "outputs": [
        {
          "data": {
            "text/plain": [
              "<keras.engine.functional.Functional at 0x7fe5f08a87d0>"
            ]
          },
          "execution_count": 23,
          "metadata": {},
          "output_type": "execute_result"
        }
      ],
      "source": [
        "model5"
      ]
    },
    {
      "cell_type": "code",
      "execution_count": null,
      "metadata": {
        "colab": {
          "base_uri": "https://localhost:8080/"
        },
        "id": "oPR_aEo5n2vI",
        "outputId": "9b7e5636-6295-4351-a0d9-ec51baf0e40d"
      },
      "outputs": [
        {
          "name": "stdout",
          "output_type": "stream",
          "text": [
            "Epoch 1/15\n",
            "91/91 [==============================] - ETA: 0s - loss: 0.4236 - accuracy: 0.2463\n",
            "Epoch 1: val_accuracy improved from -inf to 0.52216, saving model to densenet.h5\n",
            "91/91 [==============================] - 93s 708ms/step - loss: 0.4236 - accuracy: 0.2463 - val_loss: 0.2776 - val_accuracy: 0.5222 - lr: 1.0000e-04\n",
            "Epoch 2/15\n",
            "91/91 [==============================] - ETA: 0s - loss: 0.2537 - accuracy: 0.6273\n",
            "Epoch 2: val_accuracy improved from 0.52216 to 0.65928, saving model to densenet.h5\n",
            "91/91 [==============================] - 55s 606ms/step - loss: 0.2537 - accuracy: 0.6273 - val_loss: 0.2460 - val_accuracy: 0.6593 - lr: 1.0000e-04\n",
            "Epoch 3/15\n",
            "91/91 [==============================] - ETA: 0s - loss: 0.2400 - accuracy: 0.7825\n",
            "Epoch 3: val_accuracy improved from 0.65928 to 0.68975, saving model to densenet.h5\n",
            "91/91 [==============================] - 55s 610ms/step - loss: 0.2400 - accuracy: 0.7825 - val_loss: 0.2359 - val_accuracy: 0.6898 - lr: 1.0000e-04\n",
            "Epoch 4/15\n",
            "91/91 [==============================] - ETA: 0s - loss: 0.2320 - accuracy: 0.8722\n",
            "Epoch 4: val_accuracy improved from 0.68975 to 0.69806, saving model to densenet.h5\n",
            "91/91 [==============================] - 57s 629ms/step - loss: 0.2320 - accuracy: 0.8722 - val_loss: 0.2335 - val_accuracy: 0.6981 - lr: 1.0000e-04\n",
            "Epoch 5/15\n",
            "91/91 [==============================] - ETA: 0s - loss: 0.2256 - accuracy: 0.9363\n",
            "Epoch 5: val_accuracy improved from 0.69806 to 0.71191, saving model to densenet.h5\n",
            "91/91 [==============================] - 57s 629ms/step - loss: 0.2256 - accuracy: 0.9363 - val_loss: 0.2321 - val_accuracy: 0.7119 - lr: 1.0000e-04\n",
            "Epoch 6/15\n",
            "91/91 [==============================] - ETA: 0s - loss: 0.2218 - accuracy: 0.9681\n",
            "Epoch 6: val_accuracy did not improve from 0.71191\n",
            "91/91 [==============================] - 55s 604ms/step - loss: 0.2218 - accuracy: 0.9681 - val_loss: 0.2326 - val_accuracy: 0.7119 - lr: 1.0000e-04\n",
            "Epoch 7/15\n",
            "91/91 [==============================] - ETA: 0s - loss: 0.2192 - accuracy: 0.9848\n",
            "Epoch 7: val_accuracy improved from 0.71191 to 0.72299, saving model to densenet.h5\n",
            "91/91 [==============================] - 58s 636ms/step - loss: 0.2192 - accuracy: 0.9848 - val_loss: 0.2310 - val_accuracy: 0.7230 - lr: 1.0000e-04\n",
            "Epoch 8/15\n",
            "91/91 [==============================] - ETA: 0s - loss: 0.2170 - accuracy: 0.9855\n",
            "Epoch 8: val_accuracy improved from 0.72299 to 0.73269, saving model to densenet.h5\n",
            "91/91 [==============================] - 57s 630ms/step - loss: 0.2170 - accuracy: 0.9855 - val_loss: 0.2310 - val_accuracy: 0.7327 - lr: 1.0000e-04\n",
            "Epoch 9/15\n",
            "91/91 [==============================] - ETA: 0s - loss: 0.2152 - accuracy: 0.9931\n",
            "Epoch 9: val_accuracy did not improve from 0.73269\n",
            "91/91 [==============================] - 53s 583ms/step - loss: 0.2152 - accuracy: 0.9931 - val_loss: 0.2298 - val_accuracy: 0.7327 - lr: 1.0000e-04\n",
            "Epoch 10/15\n",
            "91/91 [==============================] - ETA: 0s - loss: 0.2136 - accuracy: 0.9938\n",
            "Epoch 10: val_accuracy improved from 0.73269 to 0.73823, saving model to densenet.h5\n",
            "91/91 [==============================] - 57s 631ms/step - loss: 0.2136 - accuracy: 0.9938 - val_loss: 0.2299 - val_accuracy: 0.7382 - lr: 1.0000e-04\n",
            "Epoch 11/15\n",
            "91/91 [==============================] - ETA: 0s - loss: 0.2128 - accuracy: 0.9931\n",
            "Epoch 11: val_accuracy improved from 0.73823 to 0.74238, saving model to densenet.h5\n",
            "91/91 [==============================] - 55s 609ms/step - loss: 0.2128 - accuracy: 0.9931 - val_loss: 0.2294 - val_accuracy: 0.7424 - lr: 1.0000e-04\n",
            "Epoch 12/15\n",
            "91/91 [==============================] - ETA: 0s - loss: 0.2119 - accuracy: 0.9958\n",
            "Epoch 12: val_accuracy improved from 0.74238 to 0.74377, saving model to densenet.h5\n",
            "91/91 [==============================] - 55s 608ms/step - loss: 0.2119 - accuracy: 0.9958 - val_loss: 0.2298 - val_accuracy: 0.7438 - lr: 1.0000e-04\n",
            "Epoch 13/15\n",
            "91/91 [==============================] - ETA: 0s - loss: 0.2111 - accuracy: 0.9955\n",
            "Epoch 13: val_accuracy did not improve from 0.74377\n",
            "91/91 [==============================] - 53s 584ms/step - loss: 0.2111 - accuracy: 0.9955 - val_loss: 0.2291 - val_accuracy: 0.7410 - lr: 1.0000e-04\n",
            "Epoch 14/15\n",
            "91/91 [==============================] - ETA: 0s - loss: 0.2103 - accuracy: 0.9969\n",
            "Epoch 14: val_accuracy did not improve from 0.74377\n",
            "\n",
            "Epoch 14: ReduceLROnPlateau reducing learning rate to 2.9999999242136255e-05.\n",
            "91/91 [==============================] - 53s 585ms/step - loss: 0.2103 - accuracy: 0.9969 - val_loss: 0.2287 - val_accuracy: 0.7438 - lr: 1.0000e-04\n",
            "Epoch 15/15\n",
            "91/91 [==============================] - ETA: 0s - loss: 0.2096 - accuracy: 0.9979\n",
            "Epoch 15: val_accuracy did not improve from 0.74377\n",
            "91/91 [==============================] - 53s 586ms/step - loss: 0.2096 - accuracy: 0.9979 - val_loss: 0.2289 - val_accuracy: 0.7410 - lr: 3.0000e-05\n"
          ]
        }
      ],
      "source": [
        "anc = model5.fit(X_train, y_train, batch_size=32, epochs=15, validation_data=(X_test, y_test),  callbacks=[checkpoint, earlystop, reduce_lr ])"
      ]
    },
    {
      "cell_type": "code",
      "execution_count": null,
      "metadata": {
        "id": "MCscn1JonryJ"
      },
      "outputs": [],
      "source": [
        "#plotting graphs for accuracy\n",
        "plt.figure(0)\n",
        "plt.plot(anc.history['accuracy'], label='training accuracy')\n",
        "plt.plot(anc.history['val_accuracy'], label='val accuracy')\n",
        "plt.title('Accuracy')\n",
        "plt.xlabel('epochs')\n",
        "plt.ylabel('accuracy')\n",
        "plt.legend()\n",
        "plt.show()\n",
        "plt.figure(1)\n",
        "plt.plot(anc.history['loss'], label='training loss')\n",
        "plt.plot(anc.history['val_loss'], label='val loss')\n",
        "plt.title('Loss')\n",
        "plt.xlabel('epochs')\n",
        "plt.ylabel('loss')\n",
        "plt.legend()\n",
        "plt.show()"
      ]
    },
    {
      "cell_type": "code",
      "execution_count": null,
      "metadata": {
        "id": "Gki0pN7GZtqL"
      },
      "outputs": [],
      "source": [
        "y_pred=model5.predict(X_test)\n",
        "y_pred = np.argmax(y_pred, axis=1)"
      ]
    },
    {
      "cell_type": "code",
      "execution_count": null,
      "metadata": {
        "id": "iRaLpDFAe5Iz"
      },
      "outputs": [],
      "source": [
        "y_pred"
      ]
    },
    {
      "cell_type": "code",
      "execution_count": null,
      "metadata": {
        "colab": {
          "base_uri": "https://localhost:8080/",
          "height": 707
        },
        "id": "gCmDsqVEZo8F",
        "outputId": "18335036-537e-4b0b-a1bd-65374736a055"
      },
      "outputs": [
        {
          "data": {
            "image/png": "[encoded data removed]",
            "text/plain": [
              "<Figure size 1080x720 with 2 Axes>"
            ]
          },
          "metadata": {
            "needs_background": "light"
          },
          "output_type": "display_data"
        }
      ],
      "source": [
        "from sklearn.metrics import confusion_matrix\n",
        "import seaborn as sns\n",
        "\n",
        "cm = confusion_matrix(y_test.argmax(axis=1), y_pred)\n",
        "\n",
        "cm_df = pd.DataFrame(cm,\n",
        "                     index = df[\"Category\"].unique(), \n",
        "                     columns =df[\"Category\"].unique())\n",
        "plt.figure(figsize=(15,10))\n",
        "sns.heatmap(cm_df, annot=True, cmap=plt.cm.Blues)\n",
        "plt.title('Confusion Matrix')\n",
        "plt.ylabel('Actal Values')\n",
        "plt.xlabel('Predicted Values')\n",
        "plt.show()"
      ]
    },
    {
      "cell_type": "code",
      "execution_count": null,
      "metadata": {
        "id": "BdPaPgY09aZi"
      },
      "outputs": [],
      "source": [
        "import cv2"
      ]
    },
    {
      "cell_type": "code",
      "execution_count": null,
      "metadata": {
        "id": "mw8-iz3p9bDQ"
      },
      "outputs": [],
      "source": [
        "def framing(video):#defining a small function named\"framing\" with a parameter \"i\" that's supposed to be provided for reading the video\n",
        "    fr = []#creating an empty list named fr\n",
        "    fr_pre=[]#creating an empty list named fr_pre\n",
        "    cap = cv2.VideoCapture(video)#reading the video file\n",
        "    while (cap.isOpened()):#This command builds a loop to check if the data is still being read from the video\n",
        "        ret,frame = cap.read()#reading the data tunnel,gives two output where one tells about presence of frames(here it's ret) & the other speaks frame data(here it's frame)\n",
        "        if ret == True:#checking for presence of frames\n",
        "            # cv2_imshow(frame)#displaying the frames\n",
        "            grayed = cv2.cvtColor(frame,cv2.COLOR_BGR2GRAY)#Converting the frames to Grayscale from BGR\n",
        "            canned = cv2.Canny(grayed,320,320)#For extrating edges we use Canny Edge detection method\n",
        "            fr.append(frame)#Appending the read frame\n",
        "            fr_pre.append(canned)#Appending the edge extracted frames\n",
        "            # cv2_imshow(grayed)#Displaying the original frames\n",
        "            # cv2_imshow(canned)#Displaying the edge detected frames\n",
        "            k = cv2.waitKey(10) & 0XFF#this is an arrangement for displaying the video where the secs for which each frame needs to be displayed in given in the paranthesis\n",
        "            if k == ord('q'):#pressing 'q' key will close the video\n",
        "                break\n",
        "        else:\n",
        "            break\n",
        "    cap.release()#Here we release the resoures\n",
        "    cv2.destroyAllWindows()#Here we delete all the windows that were created during the program       \n",
        "    return fr_pre,fr "
      ]
    },
    {
      "cell_type": "code",
      "execution_count": null,
      "metadata": {
        "id": "9DqCw3vJ9bMo"
      },
      "outputs": [],
      "source": [
        "def difference_of_frames(frames):\n",
        "    diff = []#creatin a list variable\n",
        "    for i in range(0,len(frames)-1):#defining the range\n",
        "        # print(frames[i],frames[i+1])#checking the frames presence\n",
        "        diff.append(cv2.absdiff(frames[i],frames[i+1]))#appending the diff between frames to the list variable so we're supposed to get only the difference between frames\n",
        "    return diff"
      ]
    },
    {
      "cell_type": "code",
      "execution_count": null,
      "metadata": {
        "id": "k7ENQU_W9wJV"
      },
      "outputs": [],
      "source": [
        "def cal_threshold(diff):\n",
        "  mn = np.mean(diff)#This gives mean\n",
        "  st_d = np.std(diff)#This gives standard deviation\n",
        "  a = 4#Setting a random value we can modify it to any value \n",
        "  ts = mn + (a * st_d)#defining the standard threshold value for the project/global threshold value\n",
        "  return ts"
      ]
    },
    {
      "cell_type": "code",
      "execution_count": null,
      "metadata": {
        "id": "3d8lth1-9yjY"
      },
      "outputs": [],
      "source": [
        "def imp_frames(diff, ts, ogframes):\n",
        "  a_fr = []#Creating an empty list\n",
        "  for i in range(len(diff)):#Defining the for loop to be looped over all the frames obtained after finding the frames resulted from subtracting\n",
        "      mn = np.mean(diff[i])#Calculating the mean for each frame\n",
        "      st_d = np.std(diff[i])#Calculating the standard deviation for each frame\n",
        "      fr_ts = mn + (4*st_d)#Finding the threshold values for each frame/image\n",
        "      a_fr.append([i,fr_ts])#Appending the frame number & the threshold values\n",
        "  imp_fr = []#Creating an empty list\n",
        "  for i,ac_tr in(a_fr):#Defining the loop on the list obtained from above code\n",
        "      if ac_tr >= ts:#Comapring the threshold values to the standard threshold/global threshold values\n",
        "          imp_fr.append([i,ac_tr])#Appending the list with the imp frames based on their index & the values\n",
        "  key_fr = []#Creating an empty list\n",
        "  for i,_ in imp_fr:#Defining the loop over the list obtained from above code\n",
        "      key_fr.append(ogframes[i])#This extracts the frames based on the index of frames \n",
        "  return key_fr"
      ]
    },
    {
      "cell_type": "code",
      "execution_count": null,
      "metadata": {
        "id": "W620sBDN90tr"
      },
      "outputs": [],
      "source": [
        "def final_image(video):\n",
        "  frames,ogframes = framing(video)#calling function framing & then extracting the images \n",
        "  diff=difference_of_frames(frames)  \n",
        "  ts=cal_threshold(diff) \n",
        "  key_fr=imp_frames(diff, ts, ogframes)  \n",
        "  frame_no=key_fr[int(len(key_fr)/2)] #this is a frame\n",
        "  cv2.imwrite(\"/content/Testing1.jpg\",frame_no)\n",
        "  return \"/content/Testing1.jpg\"\n",
        "  cv2.destroyAllWindows()"
      ]
    },
    {
      "cell_type": "code",
      "execution_count": null,
      "metadata": {
        "id": "jO_Sckkur7fW"
      },
      "outputs": [],
      "source": [
        "def image_test(image_path):\n",
        "  image=Image.open(image_path)\n",
        "  image = image.resize((224,224)) \n",
        "  image = np.array(image) \n",
        "  image= np.expand_dims(image, axis=0)\n",
        "  return image"
      ]
    },
    {
      "cell_type": "code",
      "execution_count": null,
      "metadata": {
        "id": "DioPkDG_-_Gc"
      },
      "outputs": [],
      "source": [
        "path=final_image(\"/content/drive/MyDrive/Videos/Video021-Scene-131.mp4\")"
      ]
    },
    {
      "cell_type": "code",
      "execution_count": null,
      "metadata": {
        "id": "xbycgGNLiAjL"
      },
      "outputs": [],
      "source": [
        "def largest_indices(ary, n):\n",
        "    flat = ary.flatten()\n",
        "    indices = np.argpartition(flat, -n)[-n:]\n",
        "    indices = indices[np.argsort(-flat[indices])]\n",
        "    return indices"
      ]
    },
    {
      "cell_type": "code",
      "execution_count": null,
      "metadata": {
        "colab": {
          "base_uri": "https://localhost:8080/"
        },
        "id": "tLz6EETZrdGU",
        "outputId": "eb4df69c-2c52-4e2f-aaed-cf9462eb8329"
      },
      "outputs": [
        {
          "name": "stdout",
          "output_type": "stream",
          "text": [
            "['Helicopter' 'OutdoorLaunchpad' 'OutdoorAntenna' 'Logo']\n"
          ]
        }
      ],
      "source": [
        "image=image_test(path)\n",
        "# print(image.shape)\n",
        "output_class=model5.predict(image)\n",
        "indices=largest_indices(output_class, 4)\n",
        "print(le.inverse_transform(indices))"
      ]
    }
  ],
  "metadata": {
    "accelerator": "GPU",
    "colab": {
      "provenance": []
    },
    "kernelspec": {
      "display_name": "test",
      "language": "python",
      "name": "python3"
    },
    "language_info": {
      "name": "python",
      "version": "3.10.6 (tags/v3.10.6:9c7b4bd, Aug  1 2022, 21:53:49) [MSC v.1932 64 bit (AMD64)]"
    },
    "vscode": {
      "interpreter": {
        "hash": "d91ea8ae02ec8d6fb712cafcf617eae18cdfd7bb7b44d1a5e365c6b5badcdd5f"
      }
    }
  },
  "nbformat": 4,
  "nbformat_minor": 0
}
